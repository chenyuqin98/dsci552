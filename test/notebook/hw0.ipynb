{
 "cells": [
  {
   "cell_type": "markdown",
   "metadata": {},
   "source": [
    "3.Pandas"
   ]
  },
  {
   "cell_type": "markdown",
   "metadata": {
    "pycharm": {
     "name": "#%% md\n"
    }
   },
   "source": [
    "(b) Use the read_csv(...) method from Pandas (Documentation Link) to read data\n",
    "from file Salaries.csv and to copy it into a dataframe."
   ]
  },
  {
   "cell_type": "code",
   "execution_count": null,
   "outputs": [],
   "source": [
    "import pandas as pd\n",
    "df = pd.read_csv(\"../data/Homework 0 Data/Salaries.csv\")\n",
    "df\n"
   ],
   "metadata": {
    "collapsed": false,
    "pycharm": {
     "name": "#%%\n"
    }
   }
  },
  {
   "cell_type": "markdown",
   "source": [
    "(c) Make the column playerID in the csv file as the index column and the first row\n",
    "as the header. Also, skip the second row when reading the file."
   ],
   "metadata": {
    "collapsed": false
   }
  },
  {
   "cell_type": "code",
   "execution_count": 2,
   "metadata": {
    "pycharm": {
     "name": "#%%\n"
    }
   },
   "outputs": [
    {
     "data": {
      "text/plain": "           yearID teamID lgID    salary\nplayerID                               \nbedrost01    1985    ATL   NL    550000\nbenedbr01    1985    ATL   NL    545000\ncampri01     1985    ATL   NL    633333\nceronri01    1985    ATL   NL    625000\nchambch01    1985    ATL   NL    800000\n...           ...    ...  ...       ...\ntreinbl01    2015    WAS   NL    512800\nugglada01    2015    WAS   NL    507500\nwerthja01    2015    WAS   NL  21000000\nzimmejo02    2015    WAS   NL  16500000\nzimmery01    2015    WAS   NL  14000000\n\n[25574 rows x 4 columns]",
      "text/html": "<div>\n<style scoped>\n    .dataframe tbody tr th:only-of-type {\n        vertical-align: middle;\n    }\n\n    .dataframe tbody tr th {\n        vertical-align: top;\n    }\n\n    .dataframe thead th {\n        text-align: right;\n    }\n</style>\n<table border=\"1\" class=\"dataframe\">\n  <thead>\n    <tr style=\"text-align: right;\">\n      <th></th>\n      <th>yearID</th>\n      <th>teamID</th>\n      <th>lgID</th>\n      <th>salary</th>\n    </tr>\n    <tr>\n      <th>playerID</th>\n      <th></th>\n      <th></th>\n      <th></th>\n      <th></th>\n    </tr>\n  </thead>\n  <tbody>\n    <tr>\n      <th>bedrost01</th>\n      <td>1985</td>\n      <td>ATL</td>\n      <td>NL</td>\n      <td>550000</td>\n    </tr>\n    <tr>\n      <th>benedbr01</th>\n      <td>1985</td>\n      <td>ATL</td>\n      <td>NL</td>\n      <td>545000</td>\n    </tr>\n    <tr>\n      <th>campri01</th>\n      <td>1985</td>\n      <td>ATL</td>\n      <td>NL</td>\n      <td>633333</td>\n    </tr>\n    <tr>\n      <th>ceronri01</th>\n      <td>1985</td>\n      <td>ATL</td>\n      <td>NL</td>\n      <td>625000</td>\n    </tr>\n    <tr>\n      <th>chambch01</th>\n      <td>1985</td>\n      <td>ATL</td>\n      <td>NL</td>\n      <td>800000</td>\n    </tr>\n    <tr>\n      <th>...</th>\n      <td>...</td>\n      <td>...</td>\n      <td>...</td>\n      <td>...</td>\n    </tr>\n    <tr>\n      <th>treinbl01</th>\n      <td>2015</td>\n      <td>WAS</td>\n      <td>NL</td>\n      <td>512800</td>\n    </tr>\n    <tr>\n      <th>ugglada01</th>\n      <td>2015</td>\n      <td>WAS</td>\n      <td>NL</td>\n      <td>507500</td>\n    </tr>\n    <tr>\n      <th>werthja01</th>\n      <td>2015</td>\n      <td>WAS</td>\n      <td>NL</td>\n      <td>21000000</td>\n    </tr>\n    <tr>\n      <th>zimmejo02</th>\n      <td>2015</td>\n      <td>WAS</td>\n      <td>NL</td>\n      <td>16500000</td>\n    </tr>\n    <tr>\n      <th>zimmery01</th>\n      <td>2015</td>\n      <td>WAS</td>\n      <td>NL</td>\n      <td>14000000</td>\n    </tr>\n  </tbody>\n</table>\n<p>25574 rows × 4 columns</p>\n</div>"
     },
     "execution_count": 2,
     "metadata": {},
     "output_type": "execute_result"
    }
   ],
   "source": [
    "df1 = pd.read_csv(\"../data/Homework 0 Data/Salaries.csv\", header=0, index_col=3, skiprows=[1])\n",
    "df1"
   ]
  },
  {
   "cell_type": "markdown",
   "source": [
    "(d) Select the id of the players who are registered in ATL and HOU whose salary is\n",
    "higher than one million."
   ],
   "metadata": {
    "collapsed": false
   }
  },
  {
   "cell_type": "code",
   "execution_count": 3,
   "metadata": {
    "pycharm": {
     "name": "#%%\n"
    }
   },
   "outputs": [
    {
     "data": {
      "text/plain": "10       hornebo01\n15       murphda05\n20       suttebr01\n202      ashbyal01\n203       basske01\n           ...    \n25055    singljo02\n25056     sippto01\n25057    springe01\n25058    thatcjo01\n25059    valbulu01\nName: playerID, Length: 1178, dtype: object"
     },
     "execution_count": 3,
     "metadata": {},
     "output_type": "execute_result"
    }
   ],
   "source": [
    "df[(df['teamID'] =='HOU') | (df['teamID'] =='ATL') & (df['salary']>1000000)]['playerID']"
   ]
  },
  {
   "cell_type": "markdown",
   "source": [
    "(e) Use the describe() method to calculate the standard deviation, first quartile, me\u0002dian, third quartile, mean, maximum, and minimum of the salary in team ATL."
   ],
   "metadata": {
    "collapsed": false
   }
  },
  {
   "cell_type": "code",
   "execution_count": 41,
   "metadata": {
    "pycharm": {
     "name": "#%%\n"
    }
   },
   "outputs": [
    {
     "data": {
      "text/plain": "            yearID        salary\ncount   886.000000  8.860000e+02\nmean   1999.708804  2.206239e+06\nstd       8.775471  3.432673e+06\nmin    1985.000000  6.000000e+04\n25%    1992.000000  3.000000e+05\n50%    1999.000000  6.000000e+05\n75%    2007.000000  2.390625e+06\nmax    2015.000000  1.606180e+07",
      "text/html": "<div>\n<style scoped>\n    .dataframe tbody tr th:only-of-type {\n        vertical-align: middle;\n    }\n\n    .dataframe tbody tr th {\n        vertical-align: top;\n    }\n\n    .dataframe thead th {\n        text-align: right;\n    }\n</style>\n<table border=\"1\" class=\"dataframe\">\n  <thead>\n    <tr style=\"text-align: right;\">\n      <th></th>\n      <th>yearID</th>\n      <th>salary</th>\n    </tr>\n  </thead>\n  <tbody>\n    <tr>\n      <th>count</th>\n      <td>886.000000</td>\n      <td>8.860000e+02</td>\n    </tr>\n    <tr>\n      <th>mean</th>\n      <td>1999.708804</td>\n      <td>2.206239e+06</td>\n    </tr>\n    <tr>\n      <th>std</th>\n      <td>8.775471</td>\n      <td>3.432673e+06</td>\n    </tr>\n    <tr>\n      <th>min</th>\n      <td>1985.000000</td>\n      <td>6.000000e+04</td>\n    </tr>\n    <tr>\n      <th>25%</th>\n      <td>1992.000000</td>\n      <td>3.000000e+05</td>\n    </tr>\n    <tr>\n      <th>50%</th>\n      <td>1999.000000</td>\n      <td>6.000000e+05</td>\n    </tr>\n    <tr>\n      <th>75%</th>\n      <td>2007.000000</td>\n      <td>2.390625e+06</td>\n    </tr>\n    <tr>\n      <th>max</th>\n      <td>2015.000000</td>\n      <td>1.606180e+07</td>\n    </tr>\n  </tbody>\n</table>\n</div>"
     },
     "execution_count": 41,
     "metadata": {},
     "output_type": "execute_result"
    }
   ],
   "source": [
    "data_e = df[df['teamID'] =='ATL'].describe()\n",
    "data_e"
   ]
  },
  {
   "cell_type": "markdown",
   "source": [
    "(f) Create a Python dictionary object whose keys are the headers of the dataframe\n",
    "created in the read_csv() exercise and values are Python list objects that contain\n",
    "data corresponding to the headers. (Here, use the iterrows() method to iterate\n",
    "each row of the dataframe and copy it to a dictionary. However, there is an easier\n",
    "way. Learn how the to_dict() method works by yourself later)"
   ],
   "metadata": {
    "collapsed": false
   }
  },
  {
   "cell_type": "code",
   "execution_count": 5,
   "metadata": {
    "pycharm": {
     "name": "#%%\n"
    }
   },
   "outputs": [],
   "source": [
    "# f\n",
    "data_dic = dict()\n",
    "data_dic['yearID'] = []\n",
    "data_dic['teamID'] = []\n",
    "data_dic['lgID'] = []\n",
    "data_dic['playerID'] = []\n",
    "data_dic['salary'] = []\n",
    "\n",
    "for id, row in df.iterrows():\n",
    "    data_dic['yearID'].append(row['yearID'])\n",
    "    data_dic['teamID'].append(row['teamID'])\n",
    "    data_dic['lgID'].append(row['lgID'])\n",
    "    data_dic['playerID'].append(row['playerID'])\n",
    "    data_dic['salary'].append(row['salary'])\n",
    "\n",
    "# print(data_dic)\n",
    "\n",
    "data_dic2 = df.to_dict()\n"
   ]
  },
  {
   "cell_type": "markdown",
   "source": [
    "(g) Create a dataframe using pd.DataFrameRead (Documentation Link) and from\n",
    "the dictionary created in (e). Then, change the header to \"a\", \"b\", \"c\", ... ."
   ],
   "metadata": {
    "collapsed": false
   }
  },
  {
   "cell_type": "code",
   "execution_count": 42,
   "metadata": {
    "pycharm": {
     "name": "#%%\n"
    }
   },
   "outputs": [
    {
     "data": {
      "text/plain": "        a         b            c             d            e             f  \\\n0   886.0     886.0  1999.708804  2.206239e+06     8.775471  3.432673e+06   \n1  1992.0  300000.0  1999.000000  6.000000e+05  2007.000000  2.390625e+06   \n\n        g           h  \n0  1985.0     60000.0  \n1  2015.0  16061802.0  ",
      "text/html": "<div>\n<style scoped>\n    .dataframe tbody tr th:only-of-type {\n        vertical-align: middle;\n    }\n\n    .dataframe tbody tr th {\n        vertical-align: top;\n    }\n\n    .dataframe thead th {\n        text-align: right;\n    }\n</style>\n<table border=\"1\" class=\"dataframe\">\n  <thead>\n    <tr style=\"text-align: right;\">\n      <th></th>\n      <th>a</th>\n      <th>b</th>\n      <th>c</th>\n      <th>d</th>\n      <th>e</th>\n      <th>f</th>\n      <th>g</th>\n      <th>h</th>\n    </tr>\n  </thead>\n  <tbody>\n    <tr>\n      <th>0</th>\n      <td>886.0</td>\n      <td>886.0</td>\n      <td>1999.708804</td>\n      <td>2.206239e+06</td>\n      <td>8.775471</td>\n      <td>3.432673e+06</td>\n      <td>1985.0</td>\n      <td>60000.0</td>\n    </tr>\n    <tr>\n      <th>1</th>\n      <td>1992.0</td>\n      <td>300000.0</td>\n      <td>1999.000000</td>\n      <td>6.000000e+05</td>\n      <td>2007.000000</td>\n      <td>2.390625e+06</td>\n      <td>2015.0</td>\n      <td>16061802.0</td>\n    </tr>\n  </tbody>\n</table>\n</div>"
     },
     "execution_count": 42,
     "metadata": {},
     "output_type": "execute_result"
    }
   ],
   "source": [
    "# g\n",
    "import numpy as np\n",
    "input = np.array(data_e).reshape(2,8)\n",
    "df2 = pd.DataFrame(np.array(input), columns=['a','b','c','d','e','f','g','h'])\n",
    "# df2 = pd.DataFrame(data_e)\n",
    "df2"
   ]
  },
  {
   "cell_type": "markdown",
   "source": [
    "4.Numpy"
   ],
   "metadata": {
    "collapsed": false
   }
  },
  {
   "cell_type": "markdown",
   "source": [
    "(a) Create a 2-dimensional Python list object, then convert it to a Numpy array\n",
    "object."
   ],
   "metadata": {
    "collapsed": false
   }
  },
  {
   "cell_type": "code",
   "execution_count": 71,
   "outputs": [
    {
     "data": {
      "text/plain": "array([[1, 2],\n       [3, 4],\n       [5, 6]])"
     },
     "execution_count": 71,
     "metadata": {},
     "output_type": "execute_result"
    }
   ],
   "source": [
    "# a\n",
    "n = np.array([[1,2],[3,4],[5,6]])\n",
    "n"
   ],
   "metadata": {
    "collapsed": false,
    "pycharm": {
     "name": "#%%\n"
    }
   }
  },
  {
   "cell_type": "markdown",
   "source": [
    "(b) Examine the ndim, shape, size, dtype, itemsize, and data attributes of the numpy\n",
    "array object. Make sure you understand their functions."
   ],
   "metadata": {
    "collapsed": false
   }
  },
  {
   "cell_type": "code",
   "execution_count": 72,
   "outputs": [
    {
     "name": "stdout",
     "output_type": "stream",
     "text": [
      "2 (3, 2) 6 int64 8 <memory at 0x7f8b52e16790>\n"
     ]
    }
   ],
   "source": [
    "# b\n",
    "print(n.ndim, n.shape, n.size, n.dtype, n.itemsize, n.data)"
   ],
   "metadata": {
    "collapsed": false,
    "pycharm": {
     "name": "#%%\n"
    }
   }
  },
  {
   "cell_type": "markdown",
   "source": [
    "(c) Learn the dimension concept of an ndarray object by using reshape() and flatten()\n",
    "methods."
   ],
   "metadata": {
    "collapsed": false
   }
  },
  {
   "cell_type": "code",
   "execution_count": 73,
   "outputs": [
    {
     "data": {
      "text/plain": "array([[1, 2, 3, 4, 5, 6]])"
     },
     "execution_count": 73,
     "metadata": {},
     "output_type": "execute_result"
    }
   ],
   "source": [
    "# c\n",
    "np.reshape(n, [1,6])"
   ],
   "metadata": {
    "collapsed": false,
    "pycharm": {
     "name": "#%%\n"
    }
   }
  },
  {
   "cell_type": "code",
   "execution_count": 74,
   "outputs": [
    {
     "name": "stdout",
     "output_type": "stream",
     "text": [
      "[[1 2]\n",
      " [3 4]\n",
      " [5 6]]\n"
     ]
    },
    {
     "data": {
      "text/plain": "array([1, 2, 3, 4, 5, 6])"
     },
     "execution_count": 74,
     "metadata": {},
     "output_type": "execute_result"
    }
   ],
   "source": [
    "print(n)\n",
    "n.flatten()\n"
   ],
   "metadata": {
    "collapsed": false,
    "pycharm": {
     "name": "#%%\n"
    }
   }
  },
  {
   "cell_type": "markdown",
   "source": [
    "(d) Understand how the slice operation works for 1-D arrays and 2-D arrays and\n",
    "practice by yourself."
   ],
   "metadata": {
    "collapsed": false
   }
  },
  {
   "cell_type": "code",
   "execution_count": 76,
   "outputs": [
    {
     "name": "stdout",
     "output_type": "stream",
     "text": [
      "[[3]\n",
      " [5]]\n",
      "[[3]]\n"
     ]
    }
   ],
   "source": [
    "# d\n",
    "print(n[1:, :1])\n",
    "print(n[1:2, 0:1]) # [left, right)"
   ],
   "metadata": {
    "collapsed": false,
    "pycharm": {
     "name": "#%%\n"
    }
   }
  },
  {
   "cell_type": "markdown",
   "source": [
    "(e) Learn operations on ndarray by examining the argmin(), argmax(), min(), max(),\n",
    "mean(), sum(), std(), dot(), square(), sqrt(), abs(). exp(), sign(), and mod()\n",
    "methods. Make yourself comfortable with these methods."
   ],
   "metadata": {
    "collapsed": false
   }
  },
  {
   "cell_type": "code",
   "execution_count": 87,
   "outputs": [
    {
     "name": "stdout",
     "output_type": "stream",
     "text": [
      "[0 0 0]\n",
      "5\n",
      "1 [5 6]\n",
      "3.5 6 1.707825127659933\n",
      "[ 5 11 17]\n",
      "[[1.         1.41421356]\n",
      " [1.73205081 2.        ]\n",
      " [2.23606798 2.44948974]]\n",
      "[[1 2]\n",
      " [3 4]\n",
      " [5 6]]\n",
      "[[  2.71828183   7.3890561 ]\n",
      " [ 20.08553692  54.59815003]\n",
      " [148.4131591  403.42879349]]\n",
      "[[ 0.84147098  0.90929743]\n",
      " [ 0.14112001 -0.7568025 ]\n",
      " [-0.95892427 -0.2794155 ]]\n",
      "[[1 0]\n",
      " [1 0]\n",
      " [1 0]]\n"
     ]
    }
   ],
   "source": [
    "# e\n",
    "print(n.argmin(axis=1)) # index array of min value in given axis\n",
    "print(n.argmax())\n",
    "print(n.min(), n.max(axis=0))\n",
    "print(n.mean(), n.max(), n.std())\n",
    "print(n.dot(np.array([1,2])))\n",
    "print(np.sqrt(n))\n",
    "print(np.abs(n))\n",
    "print(np.exp(n))\n",
    "print(np.sin(n))\n",
    "print(np.mod(n,2))"
   ],
   "metadata": {
    "collapsed": false,
    "pycharm": {
     "name": "#%%\n"
    }
   }
  },
  {
   "cell_type": "markdown",
   "source": [],
   "metadata": {
    "collapsed": false
   }
  },
  {
   "cell_type": "code",
   "execution_count": null,
   "outputs": [],
   "source": [
    "# f\n"
   ],
   "metadata": {
    "collapsed": false,
    "pycharm": {
     "name": "#%%\n"
    }
   }
  }
 ],
 "metadata": {
  "kernelspec": {
   "display_name": "Python 3",
   "language": "python",
   "name": "python3"
  },
  "language_info": {
   "codemirror_mode": {
    "name": "ipython",
    "version": 3
   },
   "file_extension": ".py",
   "mimetype": "text/x-python",
   "name": "python",
   "nbconvert_exporter": "python",
   "pygments_lexer": "ipython3",
   "version": "3.8.8"
  }
 },
 "nbformat": 4,
 "nbformat_minor": 1
}
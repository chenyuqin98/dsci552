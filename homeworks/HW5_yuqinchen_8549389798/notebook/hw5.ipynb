{
 "cells": [
  {
   "cell_type": "markdown",
   "metadata": {
    "collapsed": false
   },
   "source": [
    "(a) Download the Anuran Calls (MFCCs) Data Set from: https://archive.ics.\n",
    "uci.edu/ml/datasets/Anuran+Calls+%28MFCCs%29. Choose 70% of the data\n",
    "randomly as the training set."
   ]
  },
  {
   "cell_type": "code",
   "execution_count": 1,
   "metadata": {
    "collapsed": false,
    "pycharm": {
     "name": "#%%\n"
    }
   },
   "outputs": [
    {
     "data": {
      "text/html": [
       "<div>\n",
       "<style scoped>\n",
       "    .dataframe tbody tr th:only-of-type {\n",
       "        vertical-align: middle;\n",
       "    }\n",
       "\n",
       "    .dataframe tbody tr th {\n",
       "        vertical-align: top;\n",
       "    }\n",
       "\n",
       "    .dataframe thead th {\n",
       "        text-align: right;\n",
       "    }\n",
       "</style>\n",
       "<table border=\"1\" class=\"dataframe\">\n",
       "  <thead>\n",
       "    <tr style=\"text-align: right;\">\n",
       "      <th></th>\n",
       "      <th>Family</th>\n",
       "      <th>Genus</th>\n",
       "      <th>Species</th>\n",
       "    </tr>\n",
       "  </thead>\n",
       "  <tbody>\n",
       "    <tr>\n",
       "      <th>7164</th>\n",
       "      <td>Hylidae</td>\n",
       "      <td>Scinax</td>\n",
       "      <td>ScinaxRuber</td>\n",
       "    </tr>\n",
       "    <tr>\n",
       "      <th>232</th>\n",
       "      <td>Leptodactylidae</td>\n",
       "      <td>Adenomera</td>\n",
       "      <td>AdenomeraAndre</td>\n",
       "    </tr>\n",
       "    <tr>\n",
       "      <th>913</th>\n",
       "      <td>Dendrobatidae</td>\n",
       "      <td>Ameerega</td>\n",
       "      <td>Ameeregatrivittata</td>\n",
       "    </tr>\n",
       "    <tr>\n",
       "      <th>3871</th>\n",
       "      <td>Leptodactylidae</td>\n",
       "      <td>Adenomera</td>\n",
       "      <td>AdenomeraHylaedactylus</td>\n",
       "    </tr>\n",
       "    <tr>\n",
       "      <th>5172</th>\n",
       "      <td>Hylidae</td>\n",
       "      <td>Hypsiboas</td>\n",
       "      <td>HypsiboasCinerascens</td>\n",
       "    </tr>\n",
       "    <tr>\n",
       "      <th>...</th>\n",
       "      <td>...</td>\n",
       "      <td>...</td>\n",
       "      <td>...</td>\n",
       "    </tr>\n",
       "    <tr>\n",
       "      <th>1155</th>\n",
       "      <td>Dendrobatidae</td>\n",
       "      <td>Ameerega</td>\n",
       "      <td>Ameeregatrivittata</td>\n",
       "    </tr>\n",
       "    <tr>\n",
       "      <th>6140</th>\n",
       "      <td>Hylidae</td>\n",
       "      <td>Hypsiboas</td>\n",
       "      <td>HypsiboasCordobae</td>\n",
       "    </tr>\n",
       "    <tr>\n",
       "      <th>2417</th>\n",
       "      <td>Leptodactylidae</td>\n",
       "      <td>Adenomera</td>\n",
       "      <td>AdenomeraHylaedactylus</td>\n",
       "    </tr>\n",
       "    <tr>\n",
       "      <th>3879</th>\n",
       "      <td>Leptodactylidae</td>\n",
       "      <td>Adenomera</td>\n",
       "      <td>AdenomeraHylaedactylus</td>\n",
       "    </tr>\n",
       "    <tr>\n",
       "      <th>7143</th>\n",
       "      <td>Hylidae</td>\n",
       "      <td>Scinax</td>\n",
       "      <td>ScinaxRuber</td>\n",
       "    </tr>\n",
       "  </tbody>\n",
       "</table>\n",
       "<p>5036 rows × 3 columns</p>\n",
       "</div>"
      ],
      "text/plain": [
       "               Family      Genus                 Species\n",
       "7164          Hylidae     Scinax             ScinaxRuber\n",
       "232   Leptodactylidae  Adenomera          AdenomeraAndre\n",
       "913     Dendrobatidae   Ameerega      Ameeregatrivittata\n",
       "3871  Leptodactylidae  Adenomera  AdenomeraHylaedactylus\n",
       "5172          Hylidae  Hypsiboas    HypsiboasCinerascens\n",
       "...               ...        ...                     ...\n",
       "1155    Dendrobatidae   Ameerega      Ameeregatrivittata\n",
       "6140          Hylidae  Hypsiboas       HypsiboasCordobae\n",
       "2417  Leptodactylidae  Adenomera  AdenomeraHylaedactylus\n",
       "3879  Leptodactylidae  Adenomera  AdenomeraHylaedactylus\n",
       "7143          Hylidae     Scinax             ScinaxRuber\n",
       "\n",
       "[5036 rows x 3 columns]"
      ]
     },
     "execution_count": 1,
     "metadata": {},
     "output_type": "execute_result"
    }
   ],
   "source": [
    "import pandas as pd\n",
    "import numpy as np\n",
    "from sklearn.model_selection import train_test_split\n",
    "dataset = pd.read_csv('../data/Anuran Calls (MFCCs)/Frogs_MFCCs.csv')\n",
    "xDataset = dataset.iloc[:, :22]\n",
    "yDataset = dataset.iloc[:, 22:-1]\n",
    "xTrain, xTest, yTrain, yTest = train_test_split(xDataset, yDataset, test_size=0.3, random_state=233)\n",
    "yTrain"
   ]
  },
  {
   "cell_type": "markdown",
   "metadata": {
    "collapsed": false
   },
   "source": [
    "(b) Each instance has three labels: Families, Genus, and Species. Each of the labels\n",
    "has multiple classes. We wish to solve a multi-class and multi-label problem.\n",
    "One of the most important approaches to multi-label classification is to train a\n",
    "classifier for each label (binary relevance). We first try this approach:\n",
    "\n",
    "i. Research exact match and hamming score/ loss methods for evaluating multi\u0002label classification and use them in evaluating the classifiers in this problem."
   ]
  },
  {
   "cell_type": "markdown",
   "metadata": {
    "collapsed": false,
    "pycharm": {
     "name": "#%%\n"
    }
   },
   "source": [
    "# 1. Exact match: detects whether all classes are exactly matched with the label. \n",
    "# 2. Hamming score: the fraction of labels that are correctly predicted. \n",
    "# 3. Hamming loss: the fraction of labels that are incorrectly predicted."
   ]
  },
  {
   "cell_type": "markdown",
   "metadata": {
    "collapsed": false
   },
   "source": [
    "ii. Train a SVM for each of the labels, using Gaussian kernels and one versus\n",
    "all classifiers. Determine the weight of the SVM penalty and the width of\n",
    "the Gaussian Kernel using 10 fold cross validation.1 You are welcome to try\n",
    "to solve the problem with both standardized 2 and raw attributes and report\n",
    "the results."
   ]
  },
  {
   "cell_type": "code",
   "execution_count": 2,
   "metadata": {
    "collapsed": false,
    "pycharm": {
     "name": "#%%\n"
    }
   },
   "outputs": [
    {
     "name": "stdout",
     "output_type": "stream",
     "text": [
      "----best cost and gamma got by cross validation-----\n",
      "c1 10.0 gamma1 2.0\n",
      "c2 10.0 gamma2 0.8\n",
      "c3 10.0 gamma3 1.9000000000000001\n"
     ]
    }
   ],
   "source": [
    "from sklearn.svm import SVC\n",
    "from sklearn.model_selection import KFold\n",
    "from sklearn.model_selection import GridSearchCV\n",
    "import math\n",
    "import warnings\n",
    "from joblib import parallel_backend\n",
    "warnings.filterwarnings('ignore')\n",
    "\n",
    "\n",
    "y1Train = yTrain['Family']\n",
    "y2Train = yTrain['Genus']\n",
    "y3Train = yTrain['Species']\n",
    "y1Test = yTest['Family']\n",
    "y2Test = yTest['Genus']\n",
    "y3Test = yTest['Species']\n",
    "with parallel_backend('threading', n_jobs=-1):\n",
    "    cRange = [10**c for c in np.arange(-4, 4, dtype=float)]\n",
    "    gammaRange = np.arange(0.1, 2.1, 0.1)\n",
    "    svcModel = SVC(kernel='rbf', random_state=233, max_iter = 1000)\n",
    "    # get best parameters for each y(class)\n",
    "    parameters = {'C':cRange, 'gamma':gammaRange}\n",
    "    clf1 = GridSearchCV(svcModel, parameters, cv=10).fit(xTrain, y1Train)\n",
    "    clf2 = GridSearchCV(svcModel, parameters, cv=10).fit(xTrain, y2Train)\n",
    "    clf3 = GridSearchCV(svcModel, parameters, cv=10).fit(xTrain, y3Train)\n",
    "\n",
    "    c1, gamma1 = clf1.best_params_['C'], clf1.best_params_['gamma']\n",
    "    c2, gamma2 = clf2.best_params_['C'], clf2.best_params_['gamma']\n",
    "    c3, gamma3 = clf3.best_params_['C'], clf3.best_params_['gamma']\n",
    "    print('----best cost and gamma got by cross validation-----')\n",
    "    print('c1', c1, 'gamma1', gamma1)\n",
    "    print('c2', c2, 'gamma2', gamma2)\n",
    "    print('c3', c3, 'gamma3', gamma3)"
   ]
  },
  {
   "cell_type": "code",
   "execution_count": 3,
   "metadata": {},
   "outputs": [
    {
     "name": "stdout",
     "output_type": "stream",
     "text": [
      "Gaussian kernels\n",
      "Exact Match: 0.9865678554886521\n",
      "Hamming Score: 0.9915084143893778\n",
      "Hamming Loss: 0.008491585610622243\n"
     ]
    }
   ],
   "source": [
    "# calculate hamming socre/ excat match, yPredict and yTrue are DataFrame\n",
    "def countScore(yPredict, yTrue):\n",
    "    totalInstance1 = yPredict.shape[0] * yPredict.shape[1]\n",
    "    totalInstance2 = yPredict.shape[0]\n",
    "    correct_1 = 0\n",
    "    correct_2 = 0\n",
    "    for i, r in enumerate(yPredict.iterrows()):\n",
    "        if yPredict.iloc[i].tolist() == yTrue.iloc[i].tolist():\n",
    "            correct_2 += 1\n",
    "        for j in range(yPredict.shape[1]):\n",
    "            if yPredict.iloc[i].tolist()[j] == yTrue.iloc[i].tolist()[j]:\n",
    "                correct_1 += 1\n",
    "    return correct_1/totalInstance1, correct_2/totalInstance2\n",
    "\n",
    "# using the best parameters to build model and train\n",
    "svcModel1 = SVC(C=c1, gamma=gamma1,kernel='rbf', random_state=233).fit(xTrain, y1Train)\n",
    "svcModel2 = SVC(C=c2, gamma=gamma2,kernel='rbf', random_state=233).fit(xTrain, y2Train)\n",
    "svcModel3 = SVC(C=c3, gamma=gamma3,kernel='rbf', random_state=233).fit(xTrain, y3Train)\n",
    "\n",
    "# predict the class\n",
    "y1Predict = pd.DataFrame(svcModel1.predict(xTest))\n",
    "y2Predict = pd.DataFrame(svcModel2.predict(xTest))\n",
    "y3Predict = pd.DataFrame(svcModel3.predict(xTest))\n",
    "yPredict = pd.concat([y1Predict, y2Predict, y3Predict], axis=1)\n",
    "svcModelHammingScore, exactMatch = countScore(yPredict, yTest)\n",
    "# svcModelHammingScore = sklearn.metrics.hamming_loss(yPredict, yTest)\n",
    "print('Gaussian kernels')\n",
    "print('Exact Match:', exactMatch)\n",
    "print('Hamming Score:', svcModelHammingScore)\n",
    "print('Hamming Loss:', 1-svcModelHammingScore)"
   ]
  },
  {
   "cell_type": "markdown",
   "metadata": {
    "collapsed": false
   },
   "source": [
    "iii. Repeat 1(b)ii with L1-penalized SVMs.3 Remember to standardize4\n",
    "the at\u0002tributes. Determine the weight of the SVM penalty using 10 fold cross vali\u0002dation."
   ]
  },
  {
   "cell_type": "code",
   "execution_count": 4,
   "metadata": {},
   "outputs": [
    {
     "name": "stdout",
     "output_type": "stream",
     "text": [
      "L1-penalized SVMs\n",
      "Exact Match: 0.9147753589624826\n",
      "Hamming Score: 0.9454994596263703\n",
      "Hamming Loss: 0.054500540373629724\n"
     ]
    }
   ],
   "source": [
    "from sklearn.svm import LinearSVC\n",
    "from sklearn import preprocessing\n",
    "\n",
    "# standardize train and test data\n",
    "scaler = preprocessing.StandardScaler()\n",
    "standXTrain = scaler.fit_transform(xTrain)\n",
    "standXTest = scaler.fit_transform(xTest)\n",
    "\n",
    "# cross validation to get best cost\n",
    "parameters = {'C':cRange}\n",
    "svcL1Model = LinearSVC(penalty='l1', dual=False, random_state=233)\n",
    "with parallel_backend('threading', n_jobs=-1):\n",
    "    L1clf1 = GridSearchCV(svcL1Model, parameters, cv=10).fit(standXTrain, y1Train)\n",
    "    L1clf2 = GridSearchCV(svcL1Model, parameters, cv=10).fit(standXTrain, y2Train)\n",
    "    L1clf3 = GridSearchCV(svcL1Model, parameters, cv=10).fit(standXTrain, y3Train)\n",
    "\n",
    "# using the best parameters to build model and train\n",
    "c1 = L1clf1.best_params_['C']\n",
    "c2 = L1clf2.best_params_['C']\n",
    "c3 = L1clf3.best_params_['C']\n",
    "svcL1Model1 = LinearSVC(penalty='l1', C=c1, dual=False, random_state=233).fit(standXTrain, y1Train)\n",
    "svcL1Model2 = LinearSVC(penalty='l1', C=c2, dual=False, random_state=233).fit(standXTrain, y2Train)\n",
    "svcL1Model3 = LinearSVC(penalty='l1', C=c3, dual=False, random_state=233).fit(standXTrain, y3Train)\n",
    "\n",
    "# predict the class\n",
    "y1Predict = pd.DataFrame(svcL1Model1.predict(standXTest))\n",
    "y2Predict = pd.DataFrame(svcL1Model2.predict(standXTest))\n",
    "y3Predict = pd.DataFrame(svcL1Model3.predict(standXTest))\n",
    "yPredict = pd.concat([y1Predict, y2Predict, y3Predict], axis=1)\n",
    "\n",
    "# count metrics\n",
    "svcModelHammingScore, exactMatch = countScore(yPredict, yTest)\n",
    "print('L1-penalized SVMs')\n",
    "print('Exact Match:', exactMatch)\n",
    "print('Hamming Score:', svcModelHammingScore)\n",
    "print('Hamming Loss:', 1-svcModelHammingScore)"
   ]
  },
  {
   "cell_type": "markdown",
   "metadata": {},
   "source": [
    "iv. Repeat 1(b)iii by using SMOTE or any other method you know to remedy\n",
    "class imbalance. Report your conclusions about the classifiers you trained."
   ]
  },
  {
   "cell_type": "code",
   "execution_count": 5,
   "metadata": {},
   "outputs": [
    {
     "name": "stdout",
     "output_type": "stream",
     "text": [
      "Smote L1-penalized SVMs\n",
      "Exact Match: 0.8610467809170912\n",
      "Hamming Score: 0.9286706808707735\n",
      "Hamming Loss: 0.07132931912922647\n"
     ]
    }
   ],
   "source": [
    "from imblearn.over_sampling import SMOTE\n",
    "# smote dataset\n",
    "sm = SMOTE()\n",
    "smoteTrainx1, smoteTrainy1 = sm.fit_resample(standXTrain, y1Train)\n",
    "smoteTrainx2, smoteTrainy2 = sm.fit_resample(standXTrain, y2Train)\n",
    "smoteTrainx3, smoteTrainy3 = sm.fit_resample(standXTrain, y3Train)\n",
    "\n",
    "# cross validation to get best cost\n",
    "parameters = {'C':cRange}\n",
    "svcL1Model = LinearSVC(penalty='l1', dual=False, random_state=233)\n",
    "with parallel_backend('threading', n_jobs=-1):\n",
    "    smoteL1clf1 = GridSearchCV(svcL1Model, parameters, cv=10).fit(smoteTrainx1, smoteTrainy1)\n",
    "    smoteL1clf2 = GridSearchCV(svcL1Model, parameters, cv=10).fit(smoteTrainx2, smoteTrainy2)\n",
    "    smoteL1clf3 = GridSearchCV(svcL1Model, parameters, cv=10).fit(smoteTrainx3, smoteTrainy3)\n",
    "\n",
    "# using the best parameters to build model and train\n",
    "c1 = smoteL1clf1.best_params_['C']\n",
    "c2 = smoteL1clf2.best_params_['C']\n",
    "c3 = smoteL1clf3.best_params_['C']\n",
    "smoteSvcL1Model1 = LinearSVC(penalty='l1', C=c1, dual=False, random_state=233).fit(smoteTrainx1, smoteTrainy1)\n",
    "smoteSvcL1Model2 = LinearSVC(penalty='l1', C=c2, dual=False, random_state=233).fit(smoteTrainx2, smoteTrainy2)\n",
    "smoteSvcL1Model3 = LinearSVC(penalty='l1', C=c3, dual=False, random_state=233).fit(smoteTrainx3, smoteTrainy3)\n",
    "\n",
    "# predict the class\n",
    "smoteY1Predict = pd.DataFrame(smoteSvcL1Model1.predict(standXTest))\n",
    "smoteY2Predict = pd.DataFrame(smoteSvcL1Model2.predict(standXTest))\n",
    "smoteY3Predict = pd.DataFrame(smoteSvcL1Model3.predict(standXTest))\n",
    "smoteYPredict = pd.concat([smoteY1Predict, smoteY2Predict, smoteY3Predict], axis=1)\n",
    "\n",
    "# count metrics\n",
    "svcModelHammingScore, exactMatch = countScore(smoteYPredict, yTest)\n",
    "print('Smote L1-penalized SVMs')\n",
    "print('Exact Match:', exactMatch)\n",
    "print('Hamming Score:', svcModelHammingScore)\n",
    "print('Hamming Loss:', 1-svcModelHammingScore)"
   ]
  },
  {
   "cell_type": "markdown",
   "metadata": {},
   "source": [
    "# The metrics we count in 3 classifers: Gaussian kernel SVM better than l1-penalized SVM better than SMOTE SVM"
   ]
  },
  {
   "cell_type": "markdown",
   "metadata": {},
   "source": [
    "2. K-Means Clustering on a Multi-Class and Multi-Label Data Set\n",
    "\n",
    "Monte-Carlo Simulation: Perform the following procedures 50 times, and report\n",
    "the average and standard deviation of the 50 Hamming Distances that you calculate."
   ]
  },
  {
   "cell_type": "markdown",
   "metadata": {
    "collapsed": false
   },
   "source": [
    "(a) Use k-means clustering on the whole Anuran Calls (MFCCs) Data Set (do not split\n",
    "the data into train and test, as we are not performing supervised learning in this\n",
    "exercise). Choose k ∈ {1, 2, . . . , 50} automatically based on one of the methods\n",
    "provided in the slides (CH or Gap Statistics or scree plots or Silhouettes) or any\n",
    "other method you know."
   ]
  },
  {
   "cell_type": "code",
   "execution_count": 12,
   "metadata": {
    "collapsed": false,
    "pycharm": {
     "name": "#%%\n"
    }
   },
   "outputs": [
    {
     "name": "stderr",
     "output_type": "stream",
     "text": [
      "100%|██████████| 50/50 [42:54<00:00, 51.49s/it]"
     ]
    },
    {
     "name": "stdout",
     "output_type": "stream",
     "text": [
      "best k is: 4\n",
      "max Silhouettes score is: 0.38525558106940394\n"
     ]
    },
    {
     "name": "stderr",
     "output_type": "stream",
     "text": [
      "\n"
     ]
    }
   ],
   "source": [
    "from sklearn.cluster import KMeans\n",
    "from sklearn.metrics import silhouette_score\n",
    "from tqdm import tqdm\n",
    "\n",
    "bestK = 1\n",
    "maxScore = 0\n",
    "# Monte-Carlo Simulation\n",
    "for i in tqdm(range(50)):\n",
    "    for k in range(2, 51):\n",
    "        kmeansModel = KMeans(n_clusters=k).fit(xDataset)\n",
    "        labels = kmeansModel.labels_\n",
    "        score = silhouette_score(xDataset, labels)\n",
    "        if score > maxScore:\n",
    "            maxScore = score\n",
    "            bestK = k\n",
    "print('best k is:', bestK)\n",
    "print('max Silhouettes score is:', maxScore)"
   ]
  },
  {
   "cell_type": "markdown",
   "metadata": {
    "collapsed": false
   },
   "source": [
    "(b) In each cluster, determine which family is the majority by reading the true labels.\n",
    "Repeat for genus and species."
   ]
  },
  {
   "cell_type": "code",
   "execution_count": 7,
   "metadata": {
    "collapsed": false,
    "pycharm": {
     "name": "#%%\n"
    }
   },
   "outputs": [
    {
     "name": "stdout",
     "output_type": "stream",
     "text": [
      "Cluster 0  majority in Family: Dendrobatidae\n",
      "Cluster 0  majority in Genus: Ameerega\n",
      "Cluster 0  majority in Species: Ameeregatrivittata \n",
      "\n",
      "Cluster 1  majority in Family: Leptodactylidae\n",
      "Cluster 1  majority in Genus: Adenomera\n",
      "Cluster 1  majority in Species: AdenomeraHylaedactylus \n",
      "\n",
      "Cluster 2  majority in Family: Hylidae\n",
      "Cluster 2  majority in Genus: Hypsiboas\n",
      "Cluster 2  majority in Species: HypsiboasCordobae \n",
      "\n",
      "Cluster 3  majority in Family: Hylidae\n",
      "Cluster 3  majority in Genus: Hypsiboas\n",
      "Cluster 3  majority in Species: HypsiboasCinerascens \n",
      "\n"
     ]
    }
   ],
   "source": [
    "# note: this process will be repeated in (c) to achieve Monte-Carlo Simulation\n",
    "kmeans = KMeans(n_clusters=bestK, random_state=233).fit(xDataset)\n",
    "labels = kmeans.labels_\n",
    "\n",
    "y1Dataset = yDataset['Family']\n",
    "y2Dataset = yDataset['Genus']\n",
    "y3Dataset = yDataset['Species']\n",
    "clusterIndex = {}\n",
    "labels = pd.Series(labels)\n",
    "for i in range(bestK):\n",
    "    clusterIndex[i] = list(labels.index[labels==i])\n",
    "    majorityInFamily = y1Dataset[clusterIndex[i]].value_counts(sort=True, ascending=False).index[0]\n",
    "    majorityInGenus = y2Dataset[clusterIndex[i]].value_counts(sort=True, ascending=False).index[0]\n",
    "    majorityInSpecies = y3Dataset[clusterIndex[i]].value_counts(sort=True, ascending=False).index[0]\n",
    "    \n",
    "    print('Cluster', i, ' majority in Family:', majorityInFamily)\n",
    "    print('Cluster', i, ' majority in Genus:', majorityInGenus)\n",
    "    print('Cluster', i, ' majority in Species:', majorityInSpecies,'\\n')"
   ]
  },
  {
   "cell_type": "markdown",
   "metadata": {
    "collapsed": false
   },
   "source": [
    "(c) Now for each cluster you have a majority label triplet (family, genus, species).\n",
    "Calculate the average Hamming distance, Hamming score, and Hamming loss5\n",
    "between the true labels and the labels assigned by clusters."
   ]
  },
  {
   "cell_type": "code",
   "execution_count": 8,
   "metadata": {
    "collapsed": false,
    "pycharm": {
     "name": "#%%\n"
    }
   },
   "outputs": [
    {
     "name": "stdout",
     "output_type": "stream",
     "text": [
      "Avg Hamming Disance 4859.42\n",
      "Std Hamming Disance 207.99395\n",
      "\n",
      "Avg Hamming Score 0.77487\n",
      "Std Hamming Score 0.00964\n",
      "\n",
      "Avg Hamming Loss 0.22513\n",
      "Std Hamming Loss 0.00964\n"
     ]
    }
   ],
   "source": [
    "def getHammingDistance(yPredict, yTrue):\n",
    "    yPredict = yPredict.reset_index().iloc[:,1:]\n",
    "    yTrue = yTrue.reset_index().iloc[:,1:]\n",
    "    totalInstance = yPredict.shape[0] * yPredict.shape[1]\n",
    "    correct = 0\n",
    "    for i, row in enumerate(yPredict.iterrows()):\n",
    "        for j in range(yPredict.shape[1]):\n",
    "            if yPredict.iloc[i].tolist()[j] == yTrue.iloc[i].tolist()[j]:\n",
    "                correct += 1\n",
    "        # if yPredict.loc[i].tolist() == yTrue.loc[i].tolist():\n",
    "        #     correct += 1\n",
    "    return totalInstance - correct\n",
    "\n",
    "distances = list()\n",
    "scores = list()\n",
    "loss = list()\n",
    "pd.concat([y1Dataset, y1Dataset, y1Dataset], axis=1)\n",
    "yDatasetCol = y1Dataset.append(y2Dataset).append(y3Dataset)\n",
    "\n",
    "# Monte-Carlo Simulation\n",
    "for i in range(50):\n",
    "    kmeans = KMeans(n_clusters=bestK).fit(xDataset)\n",
    "    labels = kmeans.labels_\n",
    "    \n",
    "    clusterIndex = dict()\n",
    "    labels = pd.Series(labels)\n",
    "    clusterMajority = dict()\n",
    "    # get each cluster \n",
    "    for i in range(bestK):\n",
    "        clusterIndex[i] = labels.index[labels==i].tolist()\n",
    "        majorityInFamily = y1Dataset[clusterIndex[i]].value_counts().index[0]\n",
    "        majorityInGenus = y2Dataset[clusterIndex[i]].value_counts().index[0]\n",
    "        majorityInSpecies = y3Dataset[clusterIndex[i]].value_counts().index[0]\n",
    "        clusterMajority[i] = [majorityInFamily, majorityInGenus, majorityInSpecies]\n",
    "    \n",
    "    yLabels = pd.DataFrame(columns=yDataset.columns, index=yDataset.index)\n",
    "    for cluster in range(bestK):\n",
    "        for i in clusterIndex[cluster]:\n",
    "            yLabels.loc[i] = clusterMajority[cluster]\n",
    "    \n",
    "    hammingDistance = getHammingDistance(yLabels, yDataset)\n",
    "    hammingScore, _ = countScore(yLabels, yDataset)\n",
    "    hammingLoss = 1 - hammingScore\n",
    "    \n",
    "    distances.append(hammingDistance)\n",
    "    scores.append(hammingScore)\n",
    "    loss.append(hammingLoss)\n",
    "\n",
    "# print(hammingDistance, hammingScore, hammingLoss)\n",
    "print('Avg Hamming Disance', round(np.array(distances).mean(), 5))\n",
    "print('Std Hamming Disance', round(np.array(distances).std(), 5))\n",
    "print()\n",
    "print('Avg Hamming Score', round(np.array(scores).mean(), 5))\n",
    "print('Std Hamming Score', round(np.array(scores).std(), 5))\n",
    "print()\n",
    "print('Avg Hamming Loss', round(np.array(loss).mean(), 5))\n",
    "print('Std Hamming Loss', round(np.array(loss).std(), 5))"
   ]
  },
  {
   "cell_type": "markdown",
   "metadata": {
    "collapsed": false
   },
   "source": [
    "3. ISLR 12.6.2"
   ]
  },
  {
   "cell_type": "code",
   "execution_count": 9,
   "metadata": {},
   "outputs": [
    {
     "data": {
      "image/png": "[encoded data removed]",
      "text/plain": [
       "<IPython.core.display.Image object>"
      ]
     },
     "execution_count": 9,
     "metadata": {},
     "output_type": "execute_result"
    }
   ],
   "source": [
    "from IPython.display import Image\n",
    "Image(filename='12.6.2.png')"
   ]
  },
  {
   "cell_type": "code",
   "execution_count": null,
   "metadata": {},
   "outputs": [],
   "source": []
  }
 ],
 "metadata": {
  "interpreter": {
   "hash": "652856dbc3ab2a5d901ecb0bf4a112f6ee4b44e9af7f37c5c2559b5777fde759"
  },
  "kernelspec": {
   "display_name": "Python 3.8.8 64-bit ('base': conda)",
   "name": "python3"
  },
  "language_info": {
   "codemirror_mode": {
    "name": "ipython",
    "version": 3
   },
   "file_extension": ".py",
   "mimetype": "text/x-python",
   "name": "python",
   "nbconvert_exporter": "python",
   "pygments_lexer": "ipython3",
   "version": "3.8.8"
  }
 },
 "nbformat": 4,
 "nbformat_minor": 1
}
